{
 "cells": [
  {
   "cell_type": "code",
   "execution_count": null,
   "metadata": {},
   "outputs": [],
   "source": [
    "\"\"\"\n",
    "Created on Tue. Dec. 3rd, 2024\n",
    "\n",
    "authors: Christian D. Powell\n",
    "email: cpowell74@gatech.edu\n",
    "\"\"\"\n",
    "__version__ = '0.0a0'\n",
    "from docx import Document\n",
    "import numpy as np\n",
    "import pandas as pd\n",
    "from randomgen.monte_carlo_rv import monte_carlo_rv, STATS\n",
    "from scipy import stats"
   ]
  },
  {
   "cell_type": "markdown",
   "metadata": {},
   "source": [
    "# Notebook for Creating Dataset and Figures for Report"
   ]
  },
  {
   "cell_type": "markdown",
   "metadata": {},
   "source": [
    "## Normal Distribution"
   ]
  },
  {
   "cell_type": "code",
   "execution_count": null,
   "metadata": {},
   "outputs": [],
   "source": [
    "norm_100 = monte_carlo_rv(stats.norm, dist_name='Normal', iterations=100)\n",
    "norm_100.run(verbose=False)\n",
    "norm_100.plot()"
   ]
  },
  {
   "cell_type": "code",
   "execution_count": null,
   "metadata": {},
   "outputs": [],
   "source": [
    "norm_1_000 = monte_carlo_rv(stats.norm, iterations=1_000)\n",
    "norm_1_000.run(verbose=False)\n",
    "norm_1_000.plot()"
   ]
  },
  {
   "cell_type": "code",
   "execution_count": null,
   "metadata": {},
   "outputs": [],
   "source": [
    "norm_10_000 = monte_carlo_rv(stats.norm, iterations=10_000)\n",
    "norm_10_000.run(verbose=False)\n",
    "norm_10_000.plot()"
   ]
  },
  {
   "cell_type": "code",
   "execution_count": null,
   "metadata": {},
   "outputs": [],
   "source": [
    "norm_100_000 = monte_carlo_rv(stats.norm, iterations=100_000)\n",
    "norm_100_000.run(verbose=False)\n",
    "norm_100_000.plot()"
   ]
  },
  {
   "cell_type": "markdown",
   "metadata": {},
   "source": [
    "### Plot Statitsics"
   ]
  },
  {
   "cell_type": "code",
   "execution_count": null,
   "metadata": {},
   "outputs": [],
   "source": [
    "for s in STATS:\n",
    "    print(s)\n",
    "    norm_10_000.plot_statistic(s)"
   ]
  },
  {
   "cell_type": "code",
   "execution_count": null,
   "metadata": {},
   "outputs": [],
   "source": [
    "statistics = list()\n",
    "statistics.append(np.append(np.array(['theoretical', 100_000]), np.round(norm_100_000.theoretical_quantiles()[0], 4)))\n",
    "statistics.append(np.append(np.array(['simulated', 100]), np.round(norm_100.simulated_quantiles()[0], 4)))\n",
    "statistics.append(np.append(np.array(['simulated', 1_000]), np.round(norm_1_000.simulated_quantiles()[0], 4)))\n",
    "statistics.append(np.append(np.array(['simulated', 10_000]), np.round(norm_10_000.simulated_quantiles()[0], 4)))\n",
    "statistics.append(np.append(np.array(['simulated', 100_000]), np.round(norm_100_000.simulated_quantiles()[0], 4)))\n",
    "statistics = np.array(statistics)\n",
    "statistics = pd.DataFrame(statistics)\n",
    "statistics.columns = ['type', 'count', 'min', '0.01', '0.05', '0.10', '0.25', '0.50', '0.75', '0.90', '0.95', '0.99', 'max']\n",
    "statistics\n"
   ]
  },
  {
   "cell_type": "code",
   "execution_count": null,
   "metadata": {},
   "outputs": [],
   "source": [
    "document = Document()\n",
    "# Add the table\n",
    "table = document.add_table(rows=1, cols=len(statistics.columns))\n",
    "table.style = 'Table Grid'  # Apply a table style\n",
    "# Add header row\n",
    "header_cells = table.rows[0].cells\n",
    "for i, col_name in enumerate(statistics.columns):\n",
    "    header_cells[i].text = col_name\n",
    "# Add data rows\n",
    "for index, row in statistics.iterrows():\n",
    "    cells = table.add_row().cells\n",
    "    for i, value in enumerate(row):\n",
    "        cells[i].text = str(value)"
   ]
  },
  {
   "cell_type": "markdown",
   "metadata": {},
   "source": [
    "## Exponential Distribution"
   ]
  },
  {
   "cell_type": "code",
   "execution_count": null,
   "metadata": {},
   "outputs": [],
   "source": [
    "expo_100 = monte_carlo_rv(stats.expon, dist_name=\"Exponential\", iterations=100)\n",
    "expo_100.run(verbose=False)\n",
    "expo_100.plot()"
   ]
  },
  {
   "cell_type": "code",
   "execution_count": null,
   "metadata": {},
   "outputs": [],
   "source": [
    "expo_1_000 = monte_carlo_rv(stats.expon, dist_name=\"Exponential\", iterations=1_000)\n",
    "expo_1_000.run(verbose=False)\n",
    "expo_1_000.plot()"
   ]
  },
  {
   "cell_type": "code",
   "execution_count": null,
   "metadata": {},
   "outputs": [],
   "source": [
    "expo_10_000 = monte_carlo_rv(stats.expon, dist_name=\"Exponential\", iterations=10_000)\n",
    "expo_10_000.run(verbose=False)\n",
    "expo_10_000.plot()"
   ]
  },
  {
   "cell_type": "code",
   "execution_count": null,
   "metadata": {},
   "outputs": [],
   "source": [
    "expo_100_000 = monte_carlo_rv(stats.expon, dist_name=\"Exponential\", iterations=100_000)\n",
    "expo_100_000.run(verbose=False)\n",
    "expo_100_000.plot()"
   ]
  },
  {
   "cell_type": "markdown",
   "metadata": {},
   "source": [
    "### Statistics"
   ]
  },
  {
   "cell_type": "code",
   "execution_count": null,
   "metadata": {},
   "outputs": [],
   "source": [
    "for s in STATS:\n",
    "    print(s)\n",
    "    expo_10_000.plot_statistic(s)"
   ]
  },
  {
   "cell_type": "code",
   "execution_count": null,
   "metadata": {},
   "outputs": [],
   "source": [
    "statistics = list()\n",
    "statistics.append(np.append(np.array(['theoretical', 100_000]), np.round(expo_100_000.theoretical_quantiles()[0], 4)))\n",
    "statistics.append(np.append(np.array(['simulated', 100]), np.round(expo_100.simulated_quantiles()[0], 4)))\n",
    "statistics.append(np.append(np.array(['simulated', 1_000]), np.round(expo_1_000.simulated_quantiles()[0], 4)))\n",
    "statistics.append(np.append(np.array(['simulated', 10_000]), np.round(expo_10_000.simulated_quantiles()[0], 4)))\n",
    "statistics.append(np.append(np.array(['simulated', 100_000]), np.round(expo_100_000.simulated_quantiles()[0], 4)))\n",
    "statistics = np.array(statistics)\n",
    "statistics = pd.DataFrame(statistics)\n",
    "statistics.columns = ['type', 'count', 'min', '0.01', '0.05', '0.10', '0.25', '0.50', '0.75', '0.90', '0.95', '0.99', 'max']\n",
    "statistics"
   ]
  },
  {
   "cell_type": "code",
   "execution_count": null,
   "metadata": {},
   "outputs": [],
   "source": [
    "# Add the table\n",
    "table = document.add_table(rows=1, cols=len(statistics.columns))\n",
    "table.style = 'Table Grid'  # Apply a table style\n",
    "# Add header row\n",
    "header_cells = table.rows[0].cells\n",
    "for i, col_name in enumerate(statistics.columns):\n",
    "    header_cells[i].text = col_name\n",
    "# Add data rows\n",
    "for index, row in statistics.iterrows():\n",
    "    cells = table.add_row().cells\n",
    "    for i, value in enumerate(row):\n",
    "        cells[i].text = str(value)"
   ]
  },
  {
   "cell_type": "markdown",
   "metadata": {},
   "source": [
    "## Kolmogorov-Smirnov Two-sided Test Statistic Distribution"
   ]
  },
  {
   "cell_type": "code",
   "execution_count": null,
   "metadata": {},
   "outputs": [],
   "source": [
    "kolm_100 = monte_carlo_rv('kolmogorov', dist_name=\"Kolmogorov-Smirnov\", iterations=100, samples=1_000)\n",
    "kolm_100.run(verbose=False)\n",
    "kolm_100.plot()"
   ]
  },
  {
   "cell_type": "code",
   "execution_count": null,
   "metadata": {},
   "outputs": [],
   "source": [
    "kolm_1_000 = monte_carlo_rv('kolmogorov', dist_name=\"Kolmogorov-Smirnov\", iterations=1_000, samples=1_000)\n",
    "kolm_1_000.run(verbose=False)\n",
    "kolm_1_000.plot()"
   ]
  },
  {
   "cell_type": "code",
   "execution_count": null,
   "metadata": {},
   "outputs": [],
   "source": [
    "kolm_10_000 = monte_carlo_rv('kolmogorov', dist_name=\"Kolmogorov-Smirnov\", iterations=10_000, samples=1_000)\n",
    "kolm_10_000.run(verbose=False)\n",
    "kolm_10_000.plot()"
   ]
  },
  {
   "cell_type": "code",
   "execution_count": null,
   "metadata": {},
   "outputs": [],
   "source": [
    "kolm_100_000 = monte_carlo_rv('kolmogorov', dist_name=\"Kolmogorov-Smirnov\", iterations=100_000, samples=1_000)\n",
    "kolm_100_000.run(verbose=False)\n",
    "kolm_100_000.plot()"
   ]
  },
  {
   "cell_type": "markdown",
   "metadata": {},
   "source": [
    "### Statistics"
   ]
  },
  {
   "cell_type": "code",
   "execution_count": null,
   "metadata": {},
   "outputs": [],
   "source": [
    "for s in STATS:\n",
    "    print(s)\n",
    "    kolm_10_000.plot_statistic(s)"
   ]
  },
  {
   "cell_type": "code",
   "execution_count": null,
   "metadata": {},
   "outputs": [],
   "source": [
    "statistics = list()\n",
    "statistics.append(np.append(np.array(['simulated', 100]), np.round(kolm_100.simulated_quantiles()[0], 4)))\n",
    "statistics.append(np.append(np.array(['simulated', 1_000]), np.round(kolm_1_000.simulated_quantiles()[0], 4)))\n",
    "statistics.append(np.append(np.array(['simulated', 10_000]), np.round(kolm_10_000.simulated_quantiles()[0], 4)))\n",
    "statistics.append(np.append(np.array(['simulated', 100_000]), np.round(kolm_100_000.simulated_quantiles()[0], 4)))\n",
    "statistics = np.array(statistics)\n",
    "statistics = pd.DataFrame(statistics)\n",
    "statistics.columns = ['type', 'count', 'min', '0.01', '0.05', '0.10', '0.25', '0.50', '0.75', '0.90', '0.95', '0.99', 'max']\n",
    "statistics"
   ]
  },
  {
   "cell_type": "code",
   "execution_count": null,
   "metadata": {},
   "outputs": [],
   "source": [
    "# Add the table\n",
    "table = document.add_table(rows=1, cols=len(statistics.columns))\n",
    "table.style = 'Table Grid'  # Apply a table style\n",
    "# Add header row\n",
    "header_cells = table.rows[0].cells\n",
    "for i, col_name in enumerate(statistics.columns):\n",
    "    header_cells[i].text = col_name\n",
    "# Add data rows\n",
    "for index, row in statistics.iterrows():\n",
    "    cells = table.add_row().cells\n",
    "    for i, value in enumerate(row):\n",
    "        cells[i].text = str(value)"
   ]
  },
  {
   "cell_type": "markdown",
   "metadata": {},
   "source": [
    "## Durbin–Watson Statistic Distribution"
   ]
  },
  {
   "cell_type": "code",
   "execution_count": null,
   "metadata": {},
   "outputs": [],
   "source": [
    "durb_100 = monte_carlo_rv('durbin', dist_name=\"Durbin–Watson\", iterations=100, samples=1_000)\n",
    "durb_100.run(verbose=False)\n",
    "durb_100.plot()"
   ]
  },
  {
   "cell_type": "code",
   "execution_count": null,
   "metadata": {},
   "outputs": [],
   "source": [
    "durb_1_000 = monte_carlo_rv('durbin', dist_name=\"Durbin–Watson\", iterations=1_000, samples=1_000)\n",
    "durb_1_000.run(verbose=False)\n",
    "durb_1_000.plot()"
   ]
  },
  {
   "cell_type": "code",
   "execution_count": null,
   "metadata": {},
   "outputs": [],
   "source": [
    "durb_10_000 = monte_carlo_rv('durbin', dist_name=\"Durbin–Watson\", iterations=10_000, samples=1_000)\n",
    "durb_10_000.run(verbose=False)\n",
    "durb_10_000.plot()"
   ]
  },
  {
   "cell_type": "code",
   "execution_count": null,
   "metadata": {},
   "outputs": [],
   "source": [
    "durb_100_000 = monte_carlo_rv('durbin', dist_name=\"Durbin–Watson\", iterations=100_000, samples=1_000)\n",
    "durb_100_000.run(verbose=False)\n",
    "durb_100_000.plot()"
   ]
  },
  {
   "cell_type": "markdown",
   "metadata": {},
   "source": [
    "### Statistics"
   ]
  },
  {
   "cell_type": "code",
   "execution_count": null,
   "metadata": {},
   "outputs": [],
   "source": [
    "for s in STATS:\n",
    "    print(s)\n",
    "    durb_10_000.plot_statistic(s)"
   ]
  },
  {
   "cell_type": "code",
   "execution_count": null,
   "metadata": {},
   "outputs": [],
   "source": [
    "statistics = list()\n",
    "statistics.append(np.append(np.array(['simulated', 100]), np.round(durb_100.simulated_quantiles()[0], 4)))\n",
    "statistics.append(np.append(np.array(['simulated', 1_000]), np.round(durb_1_000.simulated_quantiles()[0], 4)))\n",
    "statistics.append(np.append(np.array(['simulated', 10_000]), np.round(durb_10_000.simulated_quantiles()[0], 4)))\n",
    "statistics.append(np.append(np.array(['simulated', 100_000]), np.round(durb_100_000.simulated_quantiles()[0], 4)))\n",
    "statistics = np.array(statistics)\n",
    "statistics = pd.DataFrame(statistics)\n",
    "statistics.columns = ['type', 'count', 'min', '0.01', '0.05', '0.10', '0.25', '0.50', '0.75', '0.90', '0.95', '0.99', 'max']\n",
    "statistics"
   ]
  },
  {
   "cell_type": "code",
   "execution_count": null,
   "metadata": {},
   "outputs": [],
   "source": [
    "# Add the table\n",
    "table = document.add_table(rows=1, cols=len(statistics.columns))\n",
    "table.style = 'Table Grid'  # Apply a table style\n",
    "# Add header row\n",
    "header_cells = table.rows[0].cells\n",
    "for i, col_name in enumerate(statistics.columns):\n",
    "    header_cells[i].text = col_name\n",
    "# Add data rows\n",
    "for index, row in statistics.iterrows():\n",
    "    cells = table.add_row().cells\n",
    "    for i, value in enumerate(row):\n",
    "        cells[i].text = str(value)"
   ]
  },
  {
   "cell_type": "markdown",
   "metadata": {},
   "source": [
    "## Anderson-Darling Statistic Distribution"
   ]
  },
  {
   "cell_type": "code",
   "execution_count": null,
   "metadata": {},
   "outputs": [],
   "source": [
    "ande_100 = monte_carlo_rv('anderson', dist_name=\"Anderson-Darling\", iterations=100, samples=1_000)\n",
    "ande_100.run(verbose=False)\n",
    "ande_100.plot()"
   ]
  },
  {
   "cell_type": "code",
   "execution_count": null,
   "metadata": {},
   "outputs": [],
   "source": [
    "ande_1_000 = monte_carlo_rv('anderson', dist_name=\"Anderson-Darling\", iterations=1_000, samples=1_000)\n",
    "ande_1_000.run(verbose=False)\n",
    "ande_1_000.plot()"
   ]
  },
  {
   "cell_type": "code",
   "execution_count": null,
   "metadata": {},
   "outputs": [],
   "source": [
    "ande_10_000 = monte_carlo_rv('anderson', dist_name=\"Anderson-Darling\", iterations=10_000, samples=1_000)\n",
    "ande_10_000.run(verbose=False)\n",
    "ande_10_000.plot()"
   ]
  },
  {
   "cell_type": "code",
   "execution_count": null,
   "metadata": {},
   "outputs": [],
   "source": [
    "ande_100_000 = monte_carlo_rv('anderson', dist_name=\"Anderson-Darling\", iterations=100_000, samples=1_000)\n",
    "ande_100_000.run(verbose=False)\n",
    "ande_100_000.plot()"
   ]
  },
  {
   "cell_type": "markdown",
   "metadata": {},
   "source": [
    "### Statistics"
   ]
  },
  {
   "cell_type": "code",
   "execution_count": null,
   "metadata": {},
   "outputs": [],
   "source": [
    "for s in STATS:\n",
    "    print(s)\n",
    "    ande_10_000.plot_statistic(s)"
   ]
  },
  {
   "cell_type": "code",
   "execution_count": null,
   "metadata": {},
   "outputs": [],
   "source": [
    "statistics = list()\n",
    "statistics.append(np.append(np.array(['simulated', 100]), np.round(ande_100.simulated_quantiles()[0], 4)))\n",
    "statistics.append(np.append(np.array(['simulated', 1_000]), np.round(ande_1_000.simulated_quantiles()[0], 4)))\n",
    "statistics.append(np.append(np.array(['simulated', 10_000]), np.round(ande_10_000.simulated_quantiles()[0], 4)))\n",
    "statistics.append(np.append(np.array(['simulated', 100_000]), np.round(ande_100_000.simulated_quantiles()[0], 4)))\n",
    "statistics = np.array(statistics)\n",
    "statistics = pd.DataFrame(statistics)\n",
    "statistics.columns = ['type', 'count', 'min', '0.01', '0.05', '0.10', '0.25', '0.50', '0.75', '0.90', '0.95', '0.99', 'max']\n",
    "statistics"
   ]
  },
  {
   "cell_type": "code",
   "execution_count": null,
   "metadata": {},
   "outputs": [],
   "source": [
    "# Add the table\n",
    "table = document.add_table(rows=1, cols=len(statistics.columns))\n",
    "table.style = 'Table Grid'  # Apply a table style\n",
    "# Add header row\n",
    "header_cells = table.rows[0].cells\n",
    "for i, col_name in enumerate(statistics.columns):\n",
    "    header_cells[i].text = col_name\n",
    "# Add data rows\n",
    "for index, row in statistics.iterrows():\n",
    "    cells = table.add_row().cells\n",
    "    for i, value in enumerate(row):\n",
    "        cells[i].text = str(value)"
   ]
  },
  {
   "cell_type": "markdown",
   "metadata": {},
   "source": [
    "## Save Table Document"
   ]
  },
  {
   "cell_type": "code",
   "execution_count": null,
   "metadata": {},
   "outputs": [],
   "source": [
    "# Save the document\n",
    "document.save('my_table.docx')"
   ]
  }
 ],
 "metadata": {
  "kernelspec": {
   "display_name": ".rg",
   "language": "python",
   "name": "python3"
  },
  "language_info": {
   "codemirror_mode": {
    "name": "ipython",
    "version": 3
   },
   "file_extension": ".py",
   "mimetype": "text/x-python",
   "name": "python",
   "nbconvert_exporter": "python",
   "pygments_lexer": "ipython3",
   "version": "3.8.5"
  }
 },
 "nbformat": 4,
 "nbformat_minor": 2
}
