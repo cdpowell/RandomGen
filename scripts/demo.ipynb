{
 "cells": [
  {
   "cell_type": "markdown",
   "metadata": {},
   "source": [
    "# DEMO"
   ]
  },
  {
   "cell_type": "code",
   "execution_count": null,
   "metadata": {},
   "outputs": [],
   "source": [
    "import matplotlib.pyplot as plt\n",
    "import numpy as np\n",
    "from numpy.typing import NDArray\n",
    "import pandas as pd\n",
    "from scipy import stats\n",
    "\n",
    "from monte_carlo_rv import monte_carlo_rv"
   ]
  },
  {
   "cell_type": "markdown",
   "metadata": {},
   "source": [
    "# Initial"
   ]
  },
  {
   "cell_type": "markdown",
   "metadata": {},
   "source": [
    "## Generate One Exponential RV"
   ]
  },
  {
   "cell_type": "code",
   "execution_count": null,
   "metadata": {},
   "outputs": [],
   "source": [
    "def exp_inverse_cdf(u: float or NDArray, l: float = 1):\n",
    "    \"\"\"\n",
    "    :param u: uniform value to generate from\n",
    "    :param l: lambda value of exponential distribution\n",
    "\n",
    "    :return: exp(l) RV\n",
    "    \"\"\"\n",
    "    return -1 / l * np.log(1 - u)\n",
    "\n",
    "\n",
    "u = np.random.uniform()\n",
    "print(u, exp_inverse_cdf(u, 2))"
   ]
  },
  {
   "cell_type": "markdown",
   "metadata": {},
   "source": [
    "## Generate 100 RVs"
   ]
  },
  {
   "cell_type": "code",
   "execution_count": null,
   "metadata": {},
   "outputs": [],
   "source": [
    "u = np.random.uniform(size=20)\n",
    "print(u)\n",
    "exps = exp_inverse_cdf(u, 1)\n",
    "print(exps)"
   ]
  },
  {
   "cell_type": "markdown",
   "metadata": {},
   "source": [
    "## Plot"
   ]
  },
  {
   "cell_type": "code",
   "execution_count": null,
   "metadata": {},
   "outputs": [],
   "source": [
    "plt.figure()\n",
    "plt.hist(exps)\n",
    "plt.show()"
   ]
  },
  {
   "cell_type": "markdown",
   "metadata": {},
   "source": [
    "## Statistics"
   ]
  },
  {
   "cell_type": "code",
   "execution_count": null,
   "metadata": {},
   "outputs": [],
   "source": [
    "# stats.kstest(exps, exp_inverse_cdf)\n",
    "print(pd.DataFrame(exps).describe())\n",
    "print(\"90%     {:.6f}\".format(np.quantile(exps, 0.9, axis=0)))\n",
    "print(\"95%     {:.6f}\".format(np.quantile(exps, 0.95, axis=0)))\n",
    "print(\"99%     {:.6f}\".format(np.quantile(exps, 0.99, axis=0)))\n",
    "print(stats.kstest(exps, stats.expon.cdf))"
   ]
  },
  {
   "cell_type": "code",
   "execution_count": null,
   "metadata": {},
   "outputs": [],
   "source": [
    "STATS = ['count', 'mean', 'std', 'min', '0.01', '0.05', '0.10', '0.25', '0.50', '0.75', '0.90', '0.95', '0.99', 'max', 'ks', 'ad']\n",
    "\n",
    "cdf = {\n",
    "    'alpha': stats.alpha.cdf,\n",
    "    'anglit': stats.anglit.cdf,\n",
    "    'arcsine': stats.arcsine.cdf,\n",
    "    'argus': stats.argus.cdf,\n",
    "    'beta': stats.beta.cdf,\n",
    "    'betaprime': stats.betaprime.cdf,\n",
    "    'bradford': stats.bradford.cdf,\n",
    "    'burr': stats.burr.cdf,\n",
    "    'burr12': stats.burr12.cdf,\n",
    "    'cauchy': stats.cauchy.cdf,\n",
    "    'chi': stats.chi.cdf,\n",
    "    'chi2': stats.chi2.cdf,\n",
    "    'cosine': stats.cosine.cdf,\n",
    "    'crystalball': stats.crystalball.cdf,\n",
    "    'dgamma': stats.dgamma.cdf,\n",
    "    'dweibull': stats.dweibull.cdf,\n",
    "    'erlang': stats.erlang.cdf,\n",
    "    'expon': stats.expon.cdf,\n",
    "    'exponential': stats.expon.cdf,\n",
    "    'exponnorm': stats.exponnorm.cdf,\n",
    "    'exponweib': stats.exponweib.cdf,\n",
    "    'exponpow': stats.exponpow.cdf,\n",
    "    'f': stats.f.cdf,\n",
    "    'fatiguelife': stats.fatiguelife.cdf,\n",
    "    'fisk': stats.fisk.cdf,\n",
    "    'foldcauchy': stats.foldcauchy.cdf,\n",
    "    'foldnorm': stats.foldnorm.cdf,\n",
    "    'genlogistic': stats.genlogistic.cdf,\n",
    "    'gennorm': stats.gennorm.cdf,\n",
    "    'genpareto': stats.genpareto.cdf,\n",
    "    'genexpon': stats.genexpon.cdf,\n",
    "    'genextreme': stats.genextreme.cdf,\n",
    "    'gausshyper': stats.gausshyper.cdf,\n",
    "    'fatiguelife': stats.fatiguelife.cdf,\n",
    "}\n",
    "\n",
    "def _get_dist_cdf(dist: str):\n",
    "    \"\"\"\n",
    "    \"\"\"\n",
    "    if dist == 'normal':\n",
    "        pass\n",
    "\n",
    "\n",
    "def _get_statistics(rvs: list, dist: str, statistics: list):\n",
    "    \"\"\"Calculate and print desired statistics.\n",
    "\n",
    "    :param rvs\n",
    "    \"\"\"\n",
    "    statistics_dict = {}\n",
    "    if 'count' in statistics:\n",
    "        statistics_dict['count'] = len(rvs)\n",
    "        # print('count:\\t\\t{:.6f}'.format(statistics_dict['count']))\n",
    "    if 'mean' in statistics:\n",
    "        statistics_dict['mean'] = np.mean(rvs)\n",
    "        # print('mean:\\t\\t{:.6f}'.format(statistics_dict['mean']))\n",
    "    if 'std' in statistics:\n",
    "        statistics_dict['std'] = np.std(rvs)\n",
    "        # print('std:\\t\\t{:.6f}'.format(statistics_dict['std']))\n",
    "    if 'min' in statistics:\n",
    "        statistics_dict['min'] = np.min(rvs)\n",
    "        # print('min:\\t\\t{:.6f}'.format(statistics_dict['min']))\n",
    "    for s in statistics:\n",
    "        try:\n",
    "            tmp = float(s)\n",
    "            statistics_dict[str(round(tmp*100, 2))] = np.quantile(rvs, tmp)\n",
    "            # print('{}%:\\t\\t{:.6f}'.format(round(tmp*100, 2), statistics_dict[str(round(tmp*100, 2))]))\n",
    "        except  Exception as e:\n",
    "            pass\n",
    "    if 'max' in statistics:\n",
    "        statistics_dict['max'] = np.max(rvs)\n",
    "        # print('max:\\t\\t{:.6f}'.format(statistics_dict['max']))\n",
    "    if any(s in statistics for s in ['ks', 'kolmogorov']):\n",
    "        statistics_dict['ks'] = stats.kstest(rvs, dist.cdf)\n",
    "        # print(statistics_dict['ks'])\n",
    "    if any(x in statistics for x in ['ad', 'anderson']):\n",
    "        statistics_dict['ad'] = stats.anderson(rvs, 'norm')\n",
    "        # print(statistics_dict['ad'])\n",
    "    return np.array(list(statistics_dict.values()))\n",
    "\n",
    "\n",
    "def get_theoretic_quatiles(dist, quartiles: list):\n",
    "    \"\"\"\n",
    "    \"\"\"\n",
    "    return dist.ppf(quartiles)\n",
    "\n",
    "\n",
    "def monte_carlo_simulate_rv(dist, n: int = 10_000, sample: int = 100, statistics: list = STATS):\n",
    "    \"\"\"\n",
    "    \"\"\"\n",
    "    # to save all the results out\n",
    "    rvs = []\n",
    "    statistics_iter_dict = {}\n",
    "    # perform monte carlo estimation\n",
    "    for i in range(n):\n",
    "        if i % 100 == 0:\n",
    "            print(i)\n",
    "        # sample n number of random variables\n",
    "        rvs.append(dist.ppf(np.random.uniform()))\n",
    "        # print statistics\n",
    "        statistics_iter_dict[i+1] = _get_statistics(rvs, dist, statistics)\n",
    "        # plot\n",
    "        # plt.figure()\n",
    "        # plt.hist(rvs, bins=20)\n",
    "        # plt.show()\n",
    "    # return the array of statistics at each iteration\n",
    "    return statistics_iter_dict, rvs"
   ]
  },
  {
   "cell_type": "markdown",
   "metadata": {},
   "source": [
    "## RUN"
   ]
  },
  {
   "cell_type": "code",
   "execution_count": null,
   "metadata": {},
   "outputs": [],
   "source": [
    "s = ['count', 'mean', 'std', 'min', '0.01', '0.05', '0.10', '0.25', '0.50', '0.75', '0.90', '0.95', '0.99', 'max']\n",
    "# run simulation\n",
    "sim_run, rvs = monte_carlo_simulate_rv(\n",
    "    stats.kstwobign,\n",
    "    n = 50_000,\n",
    "    statistics = s\n",
    ")"
   ]
  },
  {
   "cell_type": "markdown",
   "metadata": {},
   "source": [
    "## Plot Statistics"
   ]
  },
  {
   "cell_type": "code",
   "execution_count": null,
   "metadata": {},
   "outputs": [],
   "source": [
    "def plot_monte_carlo_statistic(statistic: str, statistics: list):\n",
    "    \"\"\"Create a scatter/line plot for a given statistic.\n",
    "\n",
    "    :param statistic: Name of statistic to plot.\n",
    "    :param statistics: List of statistics calculated during simulation.\n",
    "\n",
    "    :return: None\n",
    "    \"\"\"\n",
    "    i = statistics.index(statistic)\n",
    "    plt.figure()\n",
    "    plt.plot(list(sim_run.keys()), [x[i] for x in list(sim_run.values())])\n",
    "    plt.title(statistic)\n",
    "    plt.xlabel(\"Samples\")\n",
    "    plt.ylabel(\"Average {} Value\".format(statistic))\n",
    "    plt.show()\n",
    "\n",
    "\n",
    "# plot each statistic\n",
    "for s1 in s:\n",
    "    plot_monte_carlo_statistic(s1, s)"
   ]
  },
  {
   "cell_type": "markdown",
   "metadata": {},
   "source": [
    "# Package"
   ]
  },
  {
   "cell_type": "code",
   "execution_count": 2,
   "metadata": {},
   "outputs": [
    {
     "name": "stdout",
     "output_type": "stream",
     "text": [
      "0\n",
      "100\n",
      "200\n",
      "300\n",
      "400\n",
      "500\n",
      "600\n",
      "700\n",
      "800\n",
      "900\n",
      "1000\n",
      "1100\n",
      "1200\n",
      "1300\n",
      "1400\n",
      "1500\n",
      "1600\n",
      "1700\n",
      "1800\n",
      "1900\n",
      "2000\n",
      "2100\n",
      "2200\n",
      "2300\n",
      "2400\n",
      "2500\n",
      "2600\n",
      "2700\n",
      "2800\n",
      "2900\n",
      "3000\n",
      "3100\n",
      "3200\n",
      "3300\n",
      "3400\n",
      "3500\n",
      "3600\n",
      "3700\n",
      "3800\n",
      "3900\n",
      "4000\n",
      "4100\n",
      "4200\n",
      "4300\n",
      "4400\n",
      "4500\n",
      "4600\n",
      "4700\n",
      "4800\n",
      "4900\n",
      "5000\n",
      "5100\n",
      "5200\n",
      "5300\n",
      "5400\n",
      "5500\n",
      "5600\n",
      "5700\n",
      "5800\n",
      "5900\n",
      "6000\n",
      "6100\n",
      "6200\n",
      "6300\n",
      "6400\n",
      "6500\n",
      "6600\n",
      "6700\n",
      "6800\n",
      "6900\n",
      "7000\n",
      "7100\n",
      "7200\n",
      "7300\n",
      "7400\n",
      "7500\n",
      "7600\n",
      "7700\n",
      "7800\n",
      "7900\n",
      "8000\n",
      "8100\n",
      "8200\n",
      "8300\n",
      "8400\n",
      "8500\n",
      "8600\n",
      "8700\n",
      "8800\n",
      "8900\n",
      "9000\n",
      "9100\n",
      "9200\n",
      "9300\n",
      "9400\n",
      "9500\n",
      "9600\n",
      "9700\n",
      "9800\n",
      "9900\n"
     ]
    },
    {
     "data": {
      "text/plain": [
       "array([0.80254656, 0.80271977, 0.67987251, ..., 0.71900454, 1.01249037,\n",
       "       0.76977412])"
      ]
     },
     "execution_count": 2,
     "metadata": {},
     "output_type": "execute_result"
    }
   ],
   "source": [
    "from monte_carlo_rv import monte_carlo_rv\n",
    "\n",
    "mcrv = monte_carlo_rv(stats.kstwobign, 10_000)\n",
    "mcrv.run(True)\n",
    "mcrv.rvs"
   ]
  },
  {
   "cell_type": "code",
   "execution_count": 3,
   "metadata": {},
   "outputs": [
    {
     "data": {
      "image/png": "[encoded data removed]",
      "text/plain": [
       "<Figure size 640x480 with 1 Axes>"
      ]
     },
     "metadata": {},
     "output_type": "display_data"
    }
   ],
   "source": [
    "mcrv.plot()"
   ]
  },
  {
   "cell_type": "code",
   "execution_count": 4,
   "metadata": {},
   "outputs": [
    {
     "data": {
      "image/png": "[encoded data removed]",
      "text/plain": [
       "<Figure size 640x480 with 1 Axes>"
      ]
     },
     "metadata": {},
     "output_type": "display_data"
    }
   ],
   "source": [
    "mcrv.plot_statistic('0.50')"
   ]
  },
  {
   "cell_type": "code",
   "execution_count": 5,
   "metadata": {},
   "outputs": [
    {
     "name": "stdout",
     "output_type": "stream",
     "text": [
      "Theoretical Quartile Values\n",
      "min:\t\t0.000000\n",
      "1.0%:\t\t0.441028\n",
      "5.0%:\t\t0.519610\n",
      "10.0%:\t\t0.571173\n",
      "25.0%:\t\t0.676448\n",
      "50.0%:\t\t0.827574\n",
      "75.0%:\t\t1.019185\n",
      "90.0%:\t\t1.223848\n",
      "95.0%:\t\t1.358099\n",
      "99.0%:\t\t1.627624\n",
      "max:\t\tinf\n"
     ]
    },
    {
     "data": {
      "text/plain": [
       "([0.0,\n",
       "  0.4410276985179294,\n",
       "  0.5196103791686225,\n",
       "  0.5711732651063401,\n",
       "  0.6764476915028201,\n",
       "  0.8275735551899059,\n",
       "  1.0191847202536857,\n",
       "  1.2238478702170825,\n",
       "  1.3580986393225505,\n",
       "  1.6276236115189502,\n",
       "  inf],\n",
       " ['min',\n",
       "  '0.01',\n",
       "  '0.05',\n",
       "  '0.10',\n",
       "  '0.25',\n",
       "  '0.50',\n",
       "  '0.75',\n",
       "  '0.90',\n",
       "  '0.95',\n",
       "  '0.99',\n",
       "  'max'])"
      ]
     },
     "execution_count": 5,
     "metadata": {},
     "output_type": "execute_result"
    }
   ],
   "source": [
    "mcrv.theoretical_quartiles(True)"
   ]
  },
  {
   "cell_type": "code",
   "execution_count": 6,
   "metadata": {},
   "outputs": [
    {
     "name": "stdout",
     "output_type": "stream",
     "text": [
      "Simulated Quartile Values\n",
      "min:\t\t0.315591\n",
      "1.0%:\t\t0.437526\n",
      "5.0%:\t\t0.518091\n",
      "10.0%:\t\t0.572427\n",
      "25.0%:\t\t0.678098\n",
      "50.0%:\t\t0.825655\n",
      "75.0%:\t\t1.017446\n",
      "90.0%:\t\t1.227663\n",
      "95.0%:\t\t1.358363\n",
      "99.0%:\t\t1.638739\n",
      "min:\t\t2.304122\n"
     ]
    },
    {
     "data": {
      "text/plain": [
       "([0.3155908497449865,\n",
       "  0.4375258885747552,\n",
       "  0.5180910915134138,\n",
       "  0.5724272143031456,\n",
       "  0.6780981280082969,\n",
       "  0.8256548252471464,\n",
       "  1.017445616700761,\n",
       "  1.227663085497303,\n",
       "  1.3583633142948026,\n",
       "  1.6387388213125276,\n",
       "  2.3041221770545364],\n",
       " ['min',\n",
       "  '0.01',\n",
       "  '0.05',\n",
       "  '0.10',\n",
       "  '0.25',\n",
       "  '0.50',\n",
       "  '0.75',\n",
       "  '0.90',\n",
       "  '0.95',\n",
       "  '0.99',\n",
       "  'max'])"
      ]
     },
     "execution_count": 6,
     "metadata": {},
     "output_type": "execute_result"
    }
   ],
   "source": [
    "mcrv.simulated_quartiles(True)"
   ]
  }
 ],
 "metadata": {
  "kernelspec": {
   "display_name": "ns",
   "language": "python",
   "name": "python3"
  },
  "language_info": {
   "codemirror_mode": {
    "name": "ipython",
    "version": 3
   },
   "file_extension": ".py",
   "mimetype": "text/x-python",
   "name": "python",
   "nbconvert_exporter": "python",
   "pygments_lexer": "ipython3",
   "version": "3.8.19"
  }
 },
 "nbformat": 4,
 "nbformat_minor": 2
}
