{
 "cells": [
  {
   "cell_type": "markdown",
   "metadata": {},
   "source": [
    "# DEMO"
   ]
  },
  {
   "cell_type": "code",
   "execution_count": 1,
   "metadata": {},
   "outputs": [],
   "source": [
    "import matplotlib.pyplot as plt\n",
    "import numpy as np\n",
    "from numpy.typing import NDArray\n",
    "import pandas as pd\n",
    "from scipy import stats\n",
    "\n",
    "from randomgen.monte_carlo_rv import monte_carlo_rv"
   ]
  },
  {
   "cell_type": "markdown",
   "metadata": {},
   "source": [
    "# Initial"
   ]
  },
  {
   "cell_type": "markdown",
   "metadata": {},
   "source": [
    "## Generate One Exponential RV"
   ]
  },
  {
   "cell_type": "code",
   "execution_count": null,
   "metadata": {},
   "outputs": [],
   "source": [
    "def exp_inverse_cdf(u: float or NDArray, l: float = 1):\n",
    "    \"\"\"\n",
    "    :param u: uniform value to generate from\n",
    "    :param l: lambda value of exponential distribution\n",
    "\n",
    "    :return: exp(l) RV\n",
    "    \"\"\"\n",
    "    return -1 / l * np.log(1 - u)\n",
    "\n",
    "\n",
    "u = np.random.uniform()\n",
    "print(u, exp_inverse_cdf(u, 2))"
   ]
  },
  {
   "cell_type": "markdown",
   "metadata": {},
   "source": [
    "## Generate 100 RVs"
   ]
  },
  {
   "cell_type": "code",
   "execution_count": null,
   "metadata": {},
   "outputs": [],
   "source": [
    "u = np.random.uniform(size=20)\n",
    "print(u)\n",
    "exps = exp_inverse_cdf(u, 1)\n",
    "print(exps)"
   ]
  },
  {
   "cell_type": "markdown",
   "metadata": {},
   "source": [
    "## Plot"
   ]
  },
  {
   "cell_type": "code",
   "execution_count": null,
   "metadata": {},
   "outputs": [],
   "source": [
    "plt.figure()\n",
    "plt.hist(exps)\n",
    "plt.show()"
   ]
  },
  {
   "cell_type": "markdown",
   "metadata": {},
   "source": [
    "## Statistics"
   ]
  },
  {
   "cell_type": "code",
   "execution_count": null,
   "metadata": {},
   "outputs": [],
   "source": [
    "# stats.kstest(exps, exp_inverse_cdf)\n",
    "print(pd.DataFrame(exps).describe())\n",
    "print(\"90%     {:.6f}\".format(np.quantile(exps, 0.9, axis=0)))\n",
    "print(\"95%     {:.6f}\".format(np.quantile(exps, 0.95, axis=0)))\n",
    "print(\"99%     {:.6f}\".format(np.quantile(exps, 0.99, axis=0)))\n",
    "print(stats.kstest(exps, stats.expon.cdf))"
   ]
  },
  {
   "cell_type": "code",
   "execution_count": null,
   "metadata": {},
   "outputs": [],
   "source": [
    "STATS = ['count', 'mean', 'std', 'min', '0.01', '0.05', '0.10', '0.25', '0.50', '0.75', '0.90', '0.95', '0.99', 'max', 'ks', 'ad']\n",
    "\n",
    "cdf = {\n",
    "    'alpha': stats.alpha.cdf,\n",
    "    'anglit': stats.anglit.cdf,\n",
    "    'arcsine': stats.arcsine.cdf,\n",
    "    'argus': stats.argus.cdf,\n",
    "    'beta': stats.beta.cdf,\n",
    "    'betaprime': stats.betaprime.cdf,\n",
    "    'bradford': stats.bradford.cdf,\n",
    "    'burr': stats.burr.cdf,\n",
    "    'burr12': stats.burr12.cdf,\n",
    "    'cauchy': stats.cauchy.cdf,\n",
    "    'chi': stats.chi.cdf,\n",
    "    'chi2': stats.chi2.cdf,\n",
    "    'cosine': stats.cosine.cdf,\n",
    "    'crystalball': stats.crystalball.cdf,\n",
    "    'dgamma': stats.dgamma.cdf,\n",
    "    'dweibull': stats.dweibull.cdf,\n",
    "    'erlang': stats.erlang.cdf,\n",
    "    'expon': stats.expon.cdf,\n",
    "    'exponential': stats.expon.cdf,\n",
    "    'exponnorm': stats.exponnorm.cdf,\n",
    "    'exponweib': stats.exponweib.cdf,\n",
    "    'exponpow': stats.exponpow.cdf,\n",
    "    'f': stats.f.cdf,\n",
    "    'fatiguelife': stats.fatiguelife.cdf,\n",
    "    'fisk': stats.fisk.cdf,\n",
    "    'foldcauchy': stats.foldcauchy.cdf,\n",
    "    'foldnorm': stats.foldnorm.cdf,\n",
    "    'genlogistic': stats.genlogistic.cdf,\n",
    "    'gennorm': stats.gennorm.cdf,\n",
    "    'genpareto': stats.genpareto.cdf,\n",
    "    'genexpon': stats.genexpon.cdf,\n",
    "    'genextreme': stats.genextreme.cdf,\n",
    "    'gausshyper': stats.gausshyper.cdf,\n",
    "    'fatiguelife': stats.fatiguelife.cdf,\n",
    "}\n",
    "\n",
    "def _get_dist_cdf(dist: str):\n",
    "    \"\"\"\n",
    "    \"\"\"\n",
    "    if dist == 'normal':\n",
    "        pass\n",
    "\n",
    "\n",
    "def _get_statistics(rvs: list, dist: str, statistics: list):\n",
    "    \"\"\"Calculate and print desired statistics.\n",
    "\n",
    "    :param rvs\n",
    "    \"\"\"\n",
    "    statistics_dict = {}\n",
    "    if 'count' in statistics:\n",
    "        statistics_dict['count'] = len(rvs)\n",
    "        # print('count:\\t\\t{:.6f}'.format(statistics_dict['count']))\n",
    "    if 'mean' in statistics:\n",
    "        statistics_dict['mean'] = np.mean(rvs)\n",
    "        # print('mean:\\t\\t{:.6f}'.format(statistics_dict['mean']))\n",
    "    if 'std' in statistics:\n",
    "        statistics_dict['std'] = np.std(rvs)\n",
    "        # print('std:\\t\\t{:.6f}'.format(statistics_dict['std']))\n",
    "    if 'min' in statistics:\n",
    "        statistics_dict['min'] = np.min(rvs)\n",
    "        # print('min:\\t\\t{:.6f}'.format(statistics_dict['min']))\n",
    "    for s in statistics:\n",
    "        try:\n",
    "            tmp = float(s)\n",
    "            statistics_dict[str(round(tmp*100, 2))] = np.quantile(rvs, tmp)\n",
    "            # print('{}%:\\t\\t{:.6f}'.format(round(tmp*100, 2), statistics_dict[str(round(tmp*100, 2))]))\n",
    "        except  Exception as e:\n",
    "            pass\n",
    "    if 'max' in statistics:\n",
    "        statistics_dict['max'] = np.max(rvs)\n",
    "        # print('max:\\t\\t{:.6f}'.format(statistics_dict['max']))\n",
    "    if any(s in statistics for s in ['ks', 'kolmogorov']):\n",
    "        statistics_dict['ks'] = stats.kstest(rvs, dist.cdf)\n",
    "        # print(statistics_dict['ks'])\n",
    "    if any(x in statistics for x in ['ad', 'anderson']):\n",
    "        statistics_dict['ad'] = stats.anderson(rvs, 'norm')\n",
    "        # print(statistics_dict['ad'])\n",
    "    return np.array(list(statistics_dict.values()))\n",
    "\n",
    "\n",
    "def get_theoretic_quatiles(dist, quartiles: list):\n",
    "    \"\"\"\n",
    "    \"\"\"\n",
    "    return dist.ppf(quartiles)\n",
    "\n",
    "\n",
    "def monte_carlo_simulate_rv(dist, n: int = 10_000, sample: int = 100, statistics: list = STATS):\n",
    "    \"\"\"\n",
    "    \"\"\"\n",
    "    # to save all the results out\n",
    "    rvs = []\n",
    "    statistics_iter_dict = {}\n",
    "    # perform monte carlo estimation\n",
    "    for i in range(n):\n",
    "        if i % 100 == 0:\n",
    "            print(i)\n",
    "        # sample n number of random variables\n",
    "        rvs.append(dist.ppf(np.random.uniform()))\n",
    "        # print statistics\n",
    "        statistics_iter_dict[i+1] = _get_statistics(rvs, dist, statistics)\n",
    "        # plot\n",
    "        # plt.figure()\n",
    "        # plt.hist(rvs, bins=20)\n",
    "        # plt.show()\n",
    "    # return the array of statistics at each iteration\n",
    "    return statistics_iter_dict, rvs"
   ]
  },
  {
   "cell_type": "markdown",
   "metadata": {},
   "source": [
    "## RUN"
   ]
  },
  {
   "cell_type": "code",
   "execution_count": null,
   "metadata": {},
   "outputs": [],
   "source": [
    "s = ['count', 'mean', 'std', 'min', '0.01', '0.05', '0.10', '0.25', '0.50', '0.75', '0.90', '0.95', '0.99', 'max']\n",
    "# run simulation\n",
    "sim_run, rvs = monte_carlo_simulate_rv(\n",
    "    stats.kstwobign,\n",
    "    n = 50_000,\n",
    "    statistics = s\n",
    ")"
   ]
  },
  {
   "cell_type": "markdown",
   "metadata": {},
   "source": [
    "## Plot Statistics"
   ]
  },
  {
   "cell_type": "code",
   "execution_count": null,
   "metadata": {},
   "outputs": [],
   "source": [
    "def plot_monte_carlo_statistic(statistic: str, statistics: list):\n",
    "    \"\"\"Create a scatter/line plot for a given statistic.\n",
    "\n",
    "    :param statistic: Name of statistic to plot.\n",
    "    :param statistics: List of statistics calculated during simulation.\n",
    "\n",
    "    :return: None\n",
    "    \"\"\"\n",
    "    i = statistics.index(statistic)\n",
    "    plt.figure()\n",
    "    plt.plot(list(sim_run.keys()), [x[i] for x in list(sim_run.values())])\n",
    "    plt.title(statistic)\n",
    "    plt.xlabel(\"Samples\")\n",
    "    plt.ylabel(\"Average {} Value\".format(statistic))\n",
    "    plt.show()\n",
    "\n",
    "\n",
    "# plot each statistic\n",
    "for s1 in s:\n",
    "    plot_monte_carlo_statistic(s1, s)"
   ]
  },
  {
   "cell_type": "markdown",
   "metadata": {},
   "source": [
    "# Package"
   ]
  },
  {
   "cell_type": "code",
   "execution_count": 2,
   "metadata": {},
   "outputs": [
    {
     "name": "stdout",
     "output_type": "stream",
     "text": [
      "0\n",
      "100\n",
      "200\n",
      "300\n",
      "400\n",
      "500\n",
      "600\n",
      "700\n",
      "800\n",
      "900\n"
     ]
    },
    {
     "data": {
      "text/plain": [
       "array([0.059, 0.033, 0.039, 0.056, 0.04 , 0.057, 0.036, 0.046, 0.036,\n",
       "       0.032, 0.036, 0.04 , 0.043, 0.042, 0.053, 0.057, 0.045, 0.034,\n",
       "       0.029, 0.034, 0.044, 0.056, 0.028, 0.034, 0.048, 0.038, 0.046,\n",
       "       0.027, 0.052, 0.036, 0.02 , 0.052, 0.034, 0.03 , 0.059, 0.042,\n",
       "       0.026, 0.046, 0.045, 0.05 , 0.024, 0.021, 0.049, 0.061, 0.055,\n",
       "       0.026, 0.036, 0.044, 0.028, 0.059, 0.049, 0.05 , 0.043, 0.036,\n",
       "       0.044, 0.035, 0.046, 0.054, 0.039, 0.026, 0.028, 0.03 , 0.034,\n",
       "       0.041, 0.026, 0.044, 0.033, 0.061, 0.043, 0.053, 0.059, 0.034,\n",
       "       0.062, 0.033, 0.025, 0.034, 0.037, 0.027, 0.038, 0.044, 0.021,\n",
       "       0.026, 0.031, 0.03 , 0.042, 0.032, 0.051, 0.027, 0.031, 0.027,\n",
       "       0.029, 0.053, 0.034, 0.031, 0.036, 0.052, 0.025, 0.033, 0.034,\n",
       "       0.039, 0.042, 0.032, 0.022, 0.032, 0.023, 0.049, 0.028, 0.046,\n",
       "       0.038, 0.031, 0.031, 0.034, 0.04 , 0.038, 0.04 , 0.051, 0.047,\n",
       "       0.035, 0.025, 0.071, 0.053, 0.029, 0.027, 0.076, 0.041, 0.022,\n",
       "       0.026, 0.036, 0.032, 0.04 , 0.031, 0.051, 0.036, 0.031, 0.064,\n",
       "       0.036, 0.03 , 0.047, 0.038, 0.043, 0.024, 0.024, 0.035, 0.046,\n",
       "       0.054, 0.035, 0.037, 0.031, 0.061, 0.028, 0.045, 0.063, 0.048,\n",
       "       0.04 , 0.044, 0.026, 0.028, 0.059, 0.06 , 0.065, 0.044, 0.038,\n",
       "       0.027, 0.033, 0.056, 0.042, 0.024, 0.05 , 0.039, 0.041, 0.035,\n",
       "       0.032, 0.025, 0.027, 0.05 , 0.045, 0.031, 0.028, 0.041, 0.027,\n",
       "       0.051, 0.03 , 0.03 , 0.039, 0.03 , 0.045, 0.022, 0.053, 0.028,\n",
       "       0.029, 0.025, 0.042, 0.022, 0.041, 0.038, 0.056, 0.034, 0.028,\n",
       "       0.032, 0.036, 0.039, 0.031, 0.043, 0.068, 0.033, 0.049, 0.039,\n",
       "       0.056, 0.028, 0.037, 0.035, 0.027, 0.046, 0.032, 0.033, 0.023,\n",
       "       0.03 , 0.055, 0.024, 0.04 , 0.03 , 0.032, 0.037, 0.019, 0.042,\n",
       "       0.039, 0.023, 0.041, 0.044, 0.024, 0.045, 0.044, 0.043, 0.049,\n",
       "       0.046, 0.028, 0.039, 0.039, 0.039, 0.053, 0.047, 0.036, 0.037,\n",
       "       0.038, 0.061, 0.032, 0.049, 0.045, 0.044, 0.047, 0.054, 0.045,\n",
       "       0.04 , 0.038, 0.042, 0.052, 0.046, 0.056, 0.061, 0.031, 0.037,\n",
       "       0.051, 0.03 , 0.029, 0.036, 0.038, 0.039, 0.03 , 0.037, 0.035,\n",
       "       0.047, 0.044, 0.037, 0.046, 0.028, 0.057, 0.024, 0.054, 0.024,\n",
       "       0.031, 0.037, 0.03 , 0.038, 0.03 , 0.026, 0.017, 0.049, 0.057,\n",
       "       0.024, 0.038, 0.038, 0.041, 0.025, 0.046, 0.03 , 0.017, 0.033,\n",
       "       0.034, 0.038, 0.055, 0.033, 0.051, 0.027, 0.023, 0.037, 0.025,\n",
       "       0.062, 0.021, 0.02 , 0.059, 0.037, 0.061, 0.034, 0.046, 0.029,\n",
       "       0.041, 0.056, 0.035, 0.03 , 0.028, 0.039, 0.046, 0.059, 0.04 ,\n",
       "       0.068, 0.04 , 0.031, 0.033, 0.035, 0.029, 0.065, 0.053, 0.032,\n",
       "       0.021, 0.041, 0.046, 0.043, 0.026, 0.055, 0.029, 0.035, 0.053,\n",
       "       0.034, 0.028, 0.024, 0.029, 0.034, 0.029, 0.022, 0.051, 0.026,\n",
       "       0.023, 0.044, 0.06 , 0.042, 0.061, 0.045, 0.027, 0.03 , 0.026,\n",
       "       0.046, 0.033, 0.044, 0.056, 0.036, 0.036, 0.031, 0.037, 0.027,\n",
       "       0.036, 0.023, 0.042, 0.055, 0.028, 0.041, 0.04 , 0.055, 0.027,\n",
       "       0.039, 0.03 , 0.033, 0.03 , 0.03 , 0.059, 0.043, 0.025, 0.041,\n",
       "       0.03 , 0.044, 0.062, 0.04 , 0.027, 0.028, 0.042, 0.044, 0.026,\n",
       "       0.052, 0.035, 0.022, 0.038, 0.034, 0.021, 0.042, 0.038, 0.038,\n",
       "       0.027, 0.027, 0.041, 0.057, 0.029, 0.031, 0.028, 0.033, 0.03 ,\n",
       "       0.033, 0.031, 0.045, 0.031, 0.022, 0.025, 0.04 , 0.033, 0.028,\n",
       "       0.025, 0.053, 0.026, 0.048, 0.031, 0.055, 0.02 , 0.039, 0.047,\n",
       "       0.045, 0.028, 0.048, 0.042, 0.044, 0.024, 0.042, 0.03 , 0.068,\n",
       "       0.028, 0.029, 0.03 , 0.035, 0.033, 0.026, 0.047, 0.044, 0.034,\n",
       "       0.029, 0.044, 0.06 , 0.036, 0.025, 0.038, 0.045, 0.045, 0.022,\n",
       "       0.051, 0.037, 0.063, 0.022, 0.025, 0.022, 0.037, 0.021, 0.035,\n",
       "       0.02 , 0.041, 0.017, 0.061, 0.056, 0.051, 0.041, 0.032, 0.034,\n",
       "       0.065, 0.073, 0.05 , 0.05 , 0.048, 0.039, 0.039, 0.047, 0.034,\n",
       "       0.034, 0.028, 0.031, 0.046, 0.022, 0.031, 0.037, 0.058, 0.036,\n",
       "       0.031, 0.044, 0.024, 0.04 , 0.036, 0.042, 0.058, 0.039, 0.032,\n",
       "       0.029, 0.032, 0.043, 0.024, 0.035, 0.029, 0.048, 0.034, 0.034,\n",
       "       0.043, 0.032, 0.035, 0.047, 0.035, 0.04 , 0.05 , 0.032, 0.033,\n",
       "       0.039, 0.049, 0.029, 0.052, 0.039, 0.021, 0.022, 0.021, 0.041,\n",
       "       0.025, 0.032, 0.033, 0.017, 0.036, 0.027, 0.033, 0.066, 0.081,\n",
       "       0.033, 0.026, 0.046, 0.046, 0.031, 0.038, 0.031, 0.063, 0.032,\n",
       "       0.038, 0.033, 0.023, 0.061, 0.032, 0.038, 0.047, 0.025, 0.041,\n",
       "       0.032, 0.05 , 0.025, 0.05 , 0.031, 0.054, 0.033, 0.037, 0.043,\n",
       "       0.04 , 0.036, 0.047, 0.046, 0.023, 0.037, 0.034, 0.027, 0.04 ,\n",
       "       0.029, 0.038, 0.04 , 0.042, 0.035, 0.046, 0.031, 0.035, 0.029,\n",
       "       0.035, 0.06 , 0.03 , 0.04 , 0.037, 0.037, 0.044, 0.03 , 0.05 ,\n",
       "       0.03 , 0.046, 0.045, 0.04 , 0.021, 0.036, 0.037, 0.053, 0.038,\n",
       "       0.027, 0.049, 0.022, 0.052, 0.038, 0.02 , 0.029, 0.031, 0.031,\n",
       "       0.032, 0.043, 0.046, 0.018, 0.023, 0.047, 0.042, 0.028, 0.045,\n",
       "       0.037, 0.063, 0.021, 0.04 , 0.03 , 0.024, 0.031, 0.03 , 0.051,\n",
       "       0.022, 0.038, 0.041, 0.044, 0.041, 0.025, 0.029, 0.033, 0.046,\n",
       "       0.037, 0.038, 0.039, 0.03 , 0.081, 0.042, 0.032, 0.051, 0.024,\n",
       "       0.031, 0.038, 0.031, 0.028, 0.027, 0.055, 0.035, 0.034, 0.022,\n",
       "       0.041, 0.027, 0.034, 0.047, 0.022, 0.033, 0.03 , 0.027, 0.043,\n",
       "       0.033, 0.033, 0.032, 0.031, 0.037, 0.063, 0.051, 0.033, 0.031,\n",
       "       0.042, 0.036, 0.055, 0.041, 0.032, 0.023, 0.039, 0.027, 0.03 ,\n",
       "       0.056, 0.045, 0.04 , 0.056, 0.041, 0.031, 0.031, 0.038, 0.044,\n",
       "       0.032, 0.061, 0.03 , 0.027, 0.056, 0.055, 0.04 , 0.039, 0.035,\n",
       "       0.041, 0.033, 0.052, 0.037, 0.045, 0.045, 0.037, 0.037, 0.041,\n",
       "       0.031, 0.047, 0.046, 0.043, 0.033, 0.022, 0.038, 0.025, 0.031,\n",
       "       0.035, 0.043, 0.064, 0.049, 0.023, 0.064, 0.029, 0.049, 0.027,\n",
       "       0.038, 0.031, 0.031, 0.039, 0.044, 0.043, 0.041, 0.025, 0.028,\n",
       "       0.049, 0.031, 0.034, 0.059, 0.04 , 0.029, 0.048, 0.029, 0.031,\n",
       "       0.043, 0.038, 0.027, 0.049, 0.052, 0.023, 0.031, 0.051, 0.059,\n",
       "       0.031, 0.056, 0.033, 0.073, 0.063, 0.049, 0.038, 0.041, 0.033,\n",
       "       0.023, 0.03 , 0.03 , 0.029, 0.031, 0.027, 0.063, 0.044, 0.029,\n",
       "       0.036, 0.023, 0.034, 0.068, 0.029, 0.051, 0.061, 0.039, 0.034,\n",
       "       0.019, 0.051, 0.027, 0.027, 0.055, 0.065, 0.041, 0.034, 0.03 ,\n",
       "       0.048, 0.031, 0.042, 0.04 , 0.042, 0.063, 0.031, 0.026, 0.032,\n",
       "       0.034, 0.025, 0.046, 0.034, 0.035, 0.055, 0.041, 0.049, 0.048,\n",
       "       0.033, 0.019, 0.027, 0.041, 0.029, 0.037, 0.027, 0.035, 0.041,\n",
       "       0.045, 0.038, 0.039, 0.022, 0.033, 0.032, 0.047, 0.028, 0.044,\n",
       "       0.04 , 0.077, 0.023, 0.028, 0.043, 0.029, 0.048, 0.056, 0.044,\n",
       "       0.028, 0.021, 0.045, 0.022, 0.027, 0.028, 0.038, 0.07 , 0.029,\n",
       "       0.034, 0.088, 0.044, 0.024, 0.031, 0.042, 0.046, 0.036, 0.046,\n",
       "       0.024, 0.04 , 0.056, 0.039, 0.033, 0.045, 0.058, 0.023, 0.032,\n",
       "       0.028, 0.056, 0.04 , 0.031, 0.023, 0.056, 0.059, 0.043, 0.07 ,\n",
       "       0.028, 0.025, 0.057, 0.036, 0.031, 0.066, 0.06 , 0.062, 0.031,\n",
       "       0.032, 0.048, 0.052, 0.048, 0.043, 0.032, 0.033, 0.037, 0.056,\n",
       "       0.063, 0.07 , 0.063, 0.042, 0.035, 0.036, 0.029, 0.035, 0.03 ,\n",
       "       0.063, 0.032, 0.036, 0.036, 0.035, 0.043, 0.023, 0.042, 0.031,\n",
       "       0.03 , 0.074, 0.061, 0.056, 0.053, 0.074, 0.043, 0.038, 0.03 ,\n",
       "       0.03 , 0.043, 0.031, 0.025, 0.031, 0.041, 0.05 , 0.025, 0.043,\n",
       "       0.033, 0.042, 0.041, 0.078, 0.034, 0.03 , 0.042, 0.032, 0.035,\n",
       "       0.029, 0.035, 0.032, 0.034, 0.039, 0.034, 0.017, 0.038, 0.032,\n",
       "       0.032, 0.027, 0.073, 0.052, 0.027, 0.024, 0.029, 0.055, 0.038,\n",
       "       0.026, 0.034, 0.038, 0.042, 0.031, 0.026, 0.069, 0.048, 0.025,\n",
       "       0.029, 0.028, 0.055, 0.041, 0.036, 0.048, 0.033, 0.045, 0.04 ,\n",
       "       0.026, 0.055, 0.028, 0.04 , 0.046, 0.032, 0.025, 0.033, 0.039,\n",
       "       0.044, 0.041, 0.023, 0.031, 0.061, 0.041, 0.047, 0.057, 0.025,\n",
       "       0.022, 0.031, 0.035, 0.034, 0.031, 0.022, 0.048, 0.036, 0.02 ,\n",
       "       0.037])"
      ]
     },
     "execution_count": 2,
     "metadata": {},
     "output_type": "execute_result"
    }
   ],
   "source": [
    "mcrv = monte_carlo_rv('kolmogorov', 1_000, 1_000)\n",
    "mcrv.run(True)\n",
    "mcrv.rvs"
   ]
  },
  {
   "cell_type": "code",
   "execution_count": 3,
   "metadata": {},
   "outputs": [
    {
     "data": {
      "image/png": "[encoded data removed]",
      "text/plain": [
       "<Figure size 640x480 with 1 Axes>"
      ]
     },
     "metadata": {},
     "output_type": "display_data"
    }
   ],
   "source": [
    "mcrv.plot()"
   ]
  },
  {
   "cell_type": "code",
   "execution_count": 4,
   "metadata": {},
   "outputs": [
    {
     "data": {
      "image/png": "[encoded data removed]",
      "text/plain": [
       "<Figure size 640x480 with 1 Axes>"
      ]
     },
     "metadata": {},
     "output_type": "display_data"
    }
   ],
   "source": [
    "mcrv.plot_statistic('0.50')"
   ]
  },
  {
   "cell_type": "code",
   "execution_count": null,
   "metadata": {},
   "outputs": [],
   "source": [
    "mcrv.theoretical_quartiles(True)"
   ]
  },
  {
   "cell_type": "code",
   "execution_count": null,
   "metadata": {},
   "outputs": [],
   "source": [
    "mcrv.simulated_quartiles(True)"
   ]
  }
 ],
 "metadata": {
  "kernelspec": {
   "display_name": ".rg",
   "language": "python",
   "name": "python3"
  },
  "language_info": {
   "codemirror_mode": {
    "name": "ipython",
    "version": 3
   },
   "file_extension": ".py",
   "mimetype": "text/x-python",
   "name": "python",
   "nbconvert_exporter": "python",
   "pygments_lexer": "ipython3",
   "version": "3.8.5"
  }
 },
 "nbformat": 4,
 "nbformat_minor": 2
}
